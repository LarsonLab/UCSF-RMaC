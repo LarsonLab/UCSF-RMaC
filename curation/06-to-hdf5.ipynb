{
 "cells": [
  {
   "cell_type": "markdown",
   "metadata": {},
   "source": [
    "# 06 Convert exams to HDF5 and add metadata to files\n",
    "\n",
    "for automated script see 06_to_hdf5.py"
   ]
  },
  {
   "cell_type": "code",
   "execution_count": 1,
   "metadata": {},
   "outputs": [],
   "source": [
    "import nibabel as nib\n",
    "import os\n",
    "import numpy as np\n",
    "import pandas as pd\n",
    "from tqdm import tqdm\n",
    "import h5py\n",
    "import glob\n",
    "import pickle\n",
    "from utils import get_best_mask"
   ]
  },
  {
   "cell_type": "markdown",
   "metadata": {},
   "source": [
    "### Determine patient ids that we want to convert and save\n",
    "\n",
    "Use these in 06_to_hdf5.py"
   ]
  },
  {
   "cell_type": "code",
   "execution_count": 2,
   "metadata": {},
   "outputs": [
    {
     "name": "stdout",
     "output_type": "stream",
     "text": [
      "269\n"
     ]
    }
   ],
   "source": [
    "#data_path = \"/data/larson2/RCC_dl/data2022/\"\n",
    "#all_pids = os.listdir(data_path)\n",
    "#print(len(all_pids))\n",
    "#notreg_pids = set(pd.read_excel(\"not_registered_8_18_23.xlsx\", engine='openpyxl', header=None).values.T.tolist()[0]) #take out pids that arent registered\n",
    "#print(len(notreg_pids))\n",
    "#pids = [p for p in all_pids if p not in notreg_pids]\n",
    "\n",
    "# only convert exams that have been registered\n",
    "\n",
    "#pids = pd.read_csv(\"./pids_registered_stacked_7_17_24.csv\", header=None, names=[\"PID\"]).values.T.tolist()[0]\n",
    "#print(len(pids))   \n",
    "\n",
    "pids = pd.read_csv(\"phase_reg_key_notreg.csv\")[\"pid\"].values.T.tolist()\n",
    "print(len(pids))"
   ]
  },
  {
   "cell_type": "code",
   "execution_count": 3,
   "metadata": {},
   "outputs": [
    {
     "name": "stdout",
     "output_type": "stream",
     "text": [
      "258\n"
     ]
    }
   ],
   "source": [
    "# only convert exams that have labels\n",
    "\n",
    "anon_labels=pd.read_excel(\"/working/larson2/ssahin/rcc_dl/spreadsheets/sage_all.xlsx\",  engine='openpyxl') \n",
    "anon_labels.drop_duplicates(subset=\"Anon MRN\", inplace=True)\n",
    "\n",
    "anon_labels = anon_labels[[\"Orig MRN\", \"Anon MRN\", \"Orig Acc #\"]]\n",
    "anon_labels.rename(columns={\"Orig MRN\": \"mrn\"}, inplace=True)\n",
    "\n",
    "df_labels=pd.read_csv(\"/data/larson2/RCC_dl/metadata/RenalMass_RedCap_Backup_2022-06-27_0933.csv\") #has ~988 with labels\n",
    "df_labels.dropna(subset=[\"accession\", \"tumor_type\", \"pathology\"], inplace=True)\n",
    "df_labels.drop_duplicates(subset=\"mrn\", inplace=True)\n",
    "\n",
    "df_labels = pd.merge(df_labels, anon_labels, how='outer', on='mrn', validate=\"1:1\")\n",
    "\n",
    "\n",
    "df_labels_pids = df_labels.loc[df_labels[\"Anon MRN\"].isin(pids)]\n",
    "df_labels_pids = df_labels_pids[['Anon MRN', 'tumor_type', 'pathology', 'grade']]\n",
    "updated_pids = df_labels_pids[\"Anon MRN\"].values.T.tolist()\n",
    "print(len(updated_pids))"
   ]
  },
  {
   "cell_type": "code",
   "execution_count": 10,
   "metadata": {},
   "outputs": [
    {
     "name": "stdout",
     "output_type": "stream",
     "text": [
      "['YdMUtxL088 ', 'uxwwIFPKGd ', 'XtP1qigqQC ', 'ERd6Ak32XT ', 'rqwAZBUHI7 ', '5WRrw1AwgJ ', 'ab4QoMEEcO ', 'PZJbKmDaJM ', 'Zaimur5bcI ', 'I06IcvD9ix ', 'vZp7c1E66e ']\n"
     ]
    }
   ],
   "source": [
    "# pids not included\n",
    "exc = [p for p in pids if p not in updated_pids]\n",
    "print(exc)"
   ]
  },
  {
   "cell_type": "code",
   "execution_count": 12,
   "metadata": {},
   "outputs": [],
   "source": [
    "# save updated pids list and dataframe to use in .py file\n",
    "\n",
    "#print(updated_pids[:10])\n",
    "with open('pids_reg_label_notreg_10312024.txt', 'wb') as f:\n",
    "    pickle.dump(updated_pids, f)\n",
    "\n",
    "df_labels_pids.to_pickle(\"./df_labels_pid_notreg_10312024.pkl\") \n",
    "\n",
    "f.close()"
   ]
  },
  {
   "cell_type": "markdown",
   "metadata": {},
   "source": [
    "### Converting not registered cases"
   ]
  },
  {
   "cell_type": "code",
   "execution_count": null,
   "metadata": {},
   "outputs": [],
   "source": [
    "# load in saved pids list and dataframe\n",
    "with open('./pids_reg_label_notreg_10312024.txt', 'rb') as f:\n",
    "    updated_pids = pickle.load(f)\n",
    "df_labels_pids = pd.read_pickle(\"./df_labels_pid_notreg_10312024.pkl\") \n",
    "\n",
    "phase_reg = pd.read_csv(\"phase_reg_key_notreg.csv\")\n",
    "\n",
    "save_dir =\"/data/larson2/RCC_dl/hdf5_dir/\"\n",
    "data_path = \"/data/larson2/RCC_dl/data2022/\"\n",
    "phase_fname_reg = {\"noncon\": \"noncon_cropped.nii.gz\",\"arterial\": \"arterial_reg.nii.gz\", \"delay\": \"delay_reg.nii.gz\", \"portven\": \"portven_reg.nii.gz\"}\n",
    "phase_fname_notreg = {\"noncon\": \"noncon_cropped.nii.gz\",\"arterial\": \"arterial.nii.gz\", \"delay\": \"delay.nii.gz\", \"portven\": \"portven.nii.gz\"}\n",
    "\n",
    "print(df_labels_pids.head())\n",
    "print(phase_reg.head())\n",
    "print(updated_pids[:5])"
   ]
  },
  {
   "cell_type": "code",
   "execution_count": null,
   "metadata": {},
   "outputs": [],
   "source": [
    "#updated_pids = [\"0HW0RoqB2y\"] #to test\n",
    "istart = 257\n",
    "#iend = 260\n",
    "\n",
    "for pid in tqdm(updated_pids[istart:]):\n",
    "    print(\"PID:\", pid)\n",
    "    # get reg status\n",
    "    reg_stat = phase_reg.loc[phase_reg[\"pid\"] == pid].to_dict('records')[0]\n",
    "\n",
    "    # create and open hdf5 file\n",
    "    h5_fname = os.path.join(save_dir,pid + \".hdf5\")\n",
    "    f = h5py.File(h5_fname, \"w\")\n",
    "\n",
    "    # add metadata\n",
    "    f.attrs[\"PID\"] = pid\n",
    "    f.attrs[\"tumor_type\"] = df_labels_pids.loc[df_labels_pids[\"Anon MRN\"] == pid][\"tumor_type\"].values[0]\n",
    "    f.attrs[\"pathology\"] = df_labels_pids.loc[df_labels_pids[\"Anon MRN\"] == pid][\"pathology\"].values[0]\n",
    "    f.attrs[\"pathology_grade\"] = df_labels_pids.loc[df_labels_pids[\"Anon MRN\"] == pid][\"grade\"].values[0]\n",
    "\n",
    "    # add all registered phase images to hdf5\n",
    "    for phase in phase_fname_reg:\n",
    "        if phase ==\"noncon\": ## need to catch not cropped noncon -- maybe copy them here\n",
    "            if not os.path.exists(os.path.join(data_path,pid,phase_fname_reg[phase])):\n",
    "                print(\"noncon isnt cropped\")\n",
    "\n",
    "                # load in nifti\n",
    "                image = nib.load(os.path.join(data_path,pid,\"noncon.nii.gz\"))\n",
    "                image_np = image.get_fdata()\n",
    "\n",
    "                # add image to hdf5\n",
    "                f.create_dataset(phase, data=image_np)\n",
    "\n",
    "                # add pixel spacing\n",
    "                f.attrs[phase+\"_pixdim\"] = image.header[\"pixdim\"][1:4]\n",
    "\n",
    "                masktag = \"not_cropped\"\n",
    "                break\n",
    "\n",
    "        if reg_stat[phase] > 0: #if phase exists\n",
    "            # load in nifti\n",
    "            if reg_stat[phase]==2: #if phase is registered\n",
    "                image = nib.load(os.path.join(data_path,pid,phase_fname_reg[phase]))\n",
    "            elif reg_stat[phase]==1: #if phase isnt registered\n",
    "                image = nib.load(os.path.join(data_path,pid,phase_fname_notreg[phase]))\n",
    "            image_np = image.get_fdata()\n",
    "\n",
    "            # add image to hdf5\n",
    "            f.create_dataset(phase, data=image_np)\n",
    "\n",
    "            # add pixel spacing\n",
    "            f.attrs[phase+\"_pixdim\"] = image.header[\"pixdim\"][1:4]\n",
    "\n",
    "            masktag = \"cropped\"\n",
    "\n",
    "\n",
    "\n",
    "    # pick best mask and convert to hdf5\n",
    "    mask_fname = get_best_mask(os.path.join(data_path,pid), masktag, reg_stat)\n",
    "    # load in nifti\n",
    "    image = nib.load(os.path.join(data_path,pid,mask_fname))\n",
    "    mask_np = image.get_fdata()\n",
    "    # threshold mask\n",
    "    mask_np[mask_np < 0.5] = 0\n",
    "    mask_np[mask_np >= 0.5] = 1\n",
    "\n",
    "    # save image as hdf5\n",
    "    f.create_dataset(\"mask\", data=mask_np)\n",
    "\n",
    "    # add mask pixel spacing\n",
    "    f.attrs[\"mask_pixdim\"] = image.header[\"pixdim\"][1:4]\n",
    "\n",
    "    f.close()"
   ]
  },
  {
   "cell_type": "code",
   "execution_count": 9,
   "metadata": {},
   "outputs": [],
   "source": [
    "mask_fname = \"tumor_R_portven.nii.gz\"\n",
    "image = nib.load(os.path.join(data_path,pid,mask_fname))\n",
    "mask_np = image.get_fdata()\n",
    "# threshold mask\n",
    "mask_np[mask_np < 0.5] = 0\n",
    "mask_np[mask_np >= 0.5] = 1\n",
    "\n",
    "# save image as hdf5\n",
    "f.create_dataset(\"mask\", data=mask_np)\n",
    "\n",
    "# add mask pixel spacing\n",
    "f.attrs[\"mask_pixdim\"] = image.header[\"pixdim\"][1:4]\n",
    "\n",
    "f.close()"
   ]
  },
  {
   "cell_type": "code",
   "execution_count": 37,
   "metadata": {},
   "outputs": [],
   "source": [
    "f.close()"
   ]
  },
  {
   "cell_type": "markdown",
   "metadata": {},
   "source": [
    "### debugging"
   ]
  },
  {
   "cell_type": "code",
   "execution_count": null,
   "metadata": {},
   "outputs": [
    {
     "name": "stdout",
     "output_type": "stream",
     "text": [
      "['cyGbHfHDuS', 'YbepNjXgFf', 'zrvxpvxpGd', 'xyeSu92sns']\n",
      "cyGbHfHDuS\n",
      "YbepNjXgFf\n",
      "zrvxpvxpGd\n",
      "xyeSu92sns\n"
     ]
    }
   ],
   "source": [
    "with open('pids_reg_label_09142023.txt', 'rb') as f:\n",
    "    test = pickle.load(f)\n",
    "\n",
    "print(test[564:])\n",
    "for i in test[564:]:\n",
    "    print(i)"
   ]
  },
  {
   "cell_type": "code",
   "execution_count": null,
   "metadata": {},
   "outputs": [],
   "source": [
    "# take out pids that dont have labels (for now)\n",
    "df_labels=pd.read_csv(\"/data/larson2/RCC_dl/RCC_classification/metadata/filtered_features.csv\") #maybe? 652 total, 457 matched\n",
    "print(len(df_labels.index))\n",
    "print(df_labels.head())\n",
    "\n",
    "df_labels_pids = df_labels.loc[df_labels[\"image_accession\"].isin(pids)]\n",
    "print(len(df_labels_pids.index))\n",
    "updated_pids = df_labels_pids[\"image_accession\"].values.T.tolist()\n",
    "print(len(updated_pids))\n",
    "\n",
    "print(df_labels_pids.loc[df_labels_pids['image_accession'] == pid][\"tumor_type\"].values[0])"
   ]
  },
  {
   "cell_type": "code",
   "execution_count": null,
   "metadata": {},
   "outputs": [],
   "source": [
    "data_path = \"/data/larson2/RCC_dl/data2022/\"\n",
    "pid = \"YEh6FQv9h9\"\n",
    "fname = 'portven_reg.nii.gz'\n",
    "\n",
    "image = nib.load(os.path.join(data_path,pid,fname))\n",
    "image_np = image.get_fdata()\n",
    "\n",
    "\n",
    "# save image as hdf5\n",
    "h5_fname = os.path.join(data_path,pid,fname[:-7] + '.hdf5')\n",
    "f = h5py.File(h5_fname, \"w\")\n",
    "f.create_dataset(\"image\", data=image_np)\n",
    "f.close()"
   ]
  },
  {
   "cell_type": "code",
   "execution_count": null,
   "metadata": {},
   "outputs": [],
   "source": [
    "f = h5py.File(os.path.join(data_path,'oo2Q4ig2bL','oo2Q4ig2bL.hdf5'), 'r')\n",
    "print(f.attrs.keys())\n",
    "print(f.keys())\n",
    "f.close()"
   ]
  },
  {
   "cell_type": "code",
   "execution_count": null,
   "metadata": {},
   "outputs": [],
   "source": [
    "\n",
    "f = h5py.File(os.path.join(data_path,pid,pid + '.hdf5'), 'r')\n",
    "print(f.attrs.keys())\n",
    "print(f.keys())\n",
    "print(f.attrs['PID'])\n",
    "print(f.attrs['pathology_grade'])\n",
    "print(f.attrs['noncon_pixdim'])\n",
    "print(f.attrs['portven_pixdim'])\n",
    "print(f['noncon'])\n",
    "print(f['portven'])\n",
    "image1 = f['portven']\n",
    "image2 = f['mask']\n",
    "\n",
    "import matplotlib.pyplot as plt\n",
    "\n",
    "fig, (ax1) = plt.subplots(figsize=(20,10), ncols=1, nrows=1)  \n",
    "\n",
    "img1 = ax1.imshow(image1[:, :, 40], cmap=\"Greys_r\", vmin=-200, vmax=800)\n",
    "ax1.set_title('Axial Slice 1')\n",
    "plt.show()\n",
    "\n",
    "fig, (ax1) = plt.subplots(figsize=(20,10), ncols=1, nrows=1)  \n",
    "\n",
    "img1 = ax1.imshow(image2[:, :, 40], cmap=\"Greys_r\", vmin=-200, vmax=800)\n",
    "ax1.set_title('Axial Slice 1')\n",
    "plt.show()\n",
    "\n",
    "f.close()"
   ]
  },
  {
   "cell_type": "code",
   "execution_count": null,
   "metadata": {},
   "outputs": [],
   "source": [
    "fname = 'delay_reg.nii.gz'\n",
    "f = h5py.File(os.path.join(data_path,pid,fname[:-7] + '.hdf5'), 'r')\n",
    "print(f['image'])\n",
    "image1 = f[\"image\"]\n",
    "\n",
    "import matplotlib.pyplot as plt\n",
    "\n",
    "fig, (ax1) = plt.subplots(figsize=(20,10), ncols=1, nrows=1)  \n",
    "\n",
    "img1 = ax1.imshow(image1[:, :, 40], cmap=\"Greys_r\", vmin=-200, vmax=800)\n",
    "ax1.set_title('Axial Slice 1')\n",
    "plt.show()"
   ]
  },
  {
   "cell_type": "code",
   "execution_count": null,
   "metadata": {},
   "outputs": [],
   "source": [
    "image = nib.load(\"/data/larson2/RCC_dl/data2022/wO8XGXOZvV/noncon.nii.gz\")\n",
    "image_np = image.get_fdata()"
   ]
  },
  {
   "cell_type": "code",
   "execution_count": null,
   "metadata": {},
   "outputs": [],
   "source": [
    "df_labels_pids = pd.read_csv(\"./pids_registered_stacked_7_17_24.csv\", header=None, names=[\"PID\"])   \n",
    "print(df_labels_pids.head())\n",
    "\n",
    "save_dir =\"/data/larson2/RCC_dl/hdf5_dir/\"\n",
    "data_path = \"/data/larson2/RCC_dl/data2022/\"\n",
    "phase_fname = {\"noncon\": \"noncon_cropped.nii.gz\",\"arterial\": \"arterial_reg.nii.gz\", \"delay\": \"delay_reg.nii.gz\", \"portven\": \"portven_reg.nii.gz\"}\n",
    "\n",
    "#updated_pids = [\"ONJbX3HplS\", \"cOl6ZUqTXr\", \"oo2Q4ig2bL\"] #to test\n",
    "istart = 0\n",
    "iend = 5\n",
    "\n",
    "for pid in tqdm(df_labels_pids.PID[istart:iend]):\n",
    "    print(pid)"
   ]
  }
 ],
 "metadata": {
  "kernelspec": {
   "display_name": "Python 3",
   "language": "python",
   "name": "python3"
  },
  "language_info": {
   "codemirror_mode": {
    "name": "ipython",
    "version": 3
   },
   "file_extension": ".py",
   "mimetype": "text/x-python",
   "name": "python",
   "nbconvert_exporter": "python",
   "pygments_lexer": "ipython3",
   "version": "3.6.13"
  },
  "orig_nbformat": 4
 },
 "nbformat": 4,
 "nbformat_minor": 2
}
