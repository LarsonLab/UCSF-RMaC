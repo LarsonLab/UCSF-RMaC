{
 "cells": [
  {
   "cell_type": "markdown",
   "metadata": {},
   "source": [
    "# 01 Parse Annotations from Json and Gather Metadata"
   ]
  },
  {
   "cell_type": "markdown",
   "metadata": {},
   "source": [
    "First, load json and extract csv with all annotation information"
   ]
  },
  {
   "cell_type": "code",
   "execution_count": 1,
   "metadata": {},
   "outputs": [],
   "source": [
    "import json\n",
    "import pandas as pd\n",
    "import pydicom\n",
    "import os\n",
    "from collections import Counter\n",
    "import numpy as np\n",
    "from utils import replace_item, remove_item, import_dicom_header"
   ]
  },
  {
   "cell_type": "code",
   "execution_count": null,
   "metadata": {},
   "outputs": [],
   "source": [
    "json_filepath = '/data/larson2/RCC_dl/metadata/annotations_labelgroup_all_2021-02-04.json' #annotation json imported from MD.ai\n",
    "\n",
    "with open(json_filepath, 'r') as j:\n",
    "     contents = json.loads(j.read())\n",
    "\n",
    "labelGroups = contents['labelGroups']\n",
    "annotations = pd.io.json.json_normalize(contents['datasets'][0]['annotations'])\n",
    "\n",
    "# Using LabelGroups create dictionary to translate label id to label name\n",
    "labels = [l['labels'] for l in labelGroups]\n",
    "ids = [l['id'] for l in labels[0]] + [l['id'] for l in labels[1]] + [l['id'] for l in labels[2]]\n",
    "names = [l['name'] for l in labels[0]] + [l['name'] for l in labels[1]] + [l['name'] for l in labels[2]]\n",
    "label_conv = dict(zip(ids,names))\n",
    "\n",
    "#drop unnecessary columns\n",
    "annotations = annotations.drop(['id', 'parentId', 'isImported', 'createdAt', 'createdById', 'updatedAt', 'updatedById', 'note', 'radlexTagIds', 'reviewsPositiveCount', 'reviewsNegativeCount'], axis=1)\n",
    "labelIDs = list(annotations[\"labelId\"])\n",
    "labelNames = [label_conv[id] for id in labelIDs] #convert labelIDs to names of the labels\n",
    "annotations[\"labelName\"] = labelNames\n",
    "print(annotations[:10])"
   ]
  },
  {
   "cell_type": "markdown",
   "metadata": {},
   "source": [
    "Pull out Study and Series UIDs for scans with annotations and iterate over them pulling out neccesary metadata. Also, extract prone/stacked markers and phase name from annotations. Compile all metadata into a dataframe and save csv. (note: cell below takes a while to run-- ~1.5 hr for me)"
   ]
  },
  {
   "cell_type": "code",
   "execution_count": null,
   "metadata": {},
   "outputs": [],
   "source": [
    "dicom_base_dir = '/data/larson2/RCC_dl/1.all/'\n",
    "\n",
    "uniqid = annotations[['StudyInstanceUID', 'SeriesInstanceUID']].drop_duplicates() #pull out unique exam/series pairs that are annotated\n",
    "uniqid2 = list(uniqid.T.to_dict().values())\n",
    "\n",
    "order = ['Patient ID', 'StudyInstanceUID', 'SeriesInstanceUID', 'Series Number', 'Phase Name', 'Pixel Spacing', 'Slice Thickness', 'Prone', 'Stacked']\n",
    "fulldata = []\n",
    "for id in uniqid2:\n",
    "    # for each series pull out metadata and save as a list of dictionaries\n",
    "    print('on',uniqid2.index(id)+1, 'out of', len(uniqid2))\n",
    "    StUID = id['StudyInstanceUID']\n",
    "    SerUID = id['SeriesInstanceUID']\n",
    "    dicom_dir = dicom_base_dir + StUID + '/' + SerUID + '/'\n",
    "    if os.path.isdir(dicom_dir):\n",
    "        metadata = import_dicom_header(dicom_dir)\n",
    "    else:\n",
    "        print('No DICOM:', dicom_dir)\n",
    "        continue\n",
    "\n",
    "    #extract name of label for each exam/series pair\n",
    "    sernames = [a['labelName'] for a in annotations.T.to_dict().values() if a['StudyInstanceUID'] == StUID and a['SeriesInstanceUID'] == SerUID]\n",
    "    sernames = list(set([a.split(\"_\")[-1] for a in sernames]))\n",
    "\n",
    "    # using names of the annotations- determine which phase it is and flag prone/stacked\n",
    "    proneflag = False\n",
    "    stackflag = False\n",
    "    if \"ART\" in sernames: \n",
    "        sernames = replace_item(sernames,'ART', 'arterial')\n",
    "    if \"art\" in sernames:\n",
    "        sernames = replace_item(sernames,'art', 'arterial')\n",
    "    if \"concon\" in sernames:\n",
    "        sernames = replace_item(sernames,'concon', 'noncon')\n",
    "    if \"NC\" in sernames:\n",
    "        sernames = replace_item(sernames,'NC', 'noncon')\n",
    "    if \"pv\" in sernames:\n",
    "        sernames = replace_item(sernames,'pv', 'portven')\n",
    "    if \"PV\" in sernames:\n",
    "        sernames = replace_item(sernames,'PV', 'portven')\n",
    "    if \"DEL\" in sernames:\n",
    "        sernames = replace_item(sernames,'DEL', 'delay')\n",
    "    if \"del\" in sernames:\n",
    "        sernames = replace_item(sernames,'del', 'delay')\n",
    "    if 'tumor' in sernames:\n",
    "        sernames = remove_item(sernames,'tumor')\n",
    "    if 'BB' in sernames:\n",
    "        sernames = remove_item(sernames,'BB')\n",
    "    if 'NewBB' in sernames:\n",
    "        sernames = remove_item(sernames,'NewBB')\n",
    "    if 'prone' in sernames:\n",
    "        proneflag = True\n",
    "        sernames = remove_item(sernames,'prone')\n",
    "    if 'stacked' in sernames:\n",
    "        stackflag = True\n",
    "        sernames = remove_item(sernames,'stacked')\n",
    "    sernames = list(set(sernames))\n",
    "\n",
    "    # save all data in a dictionary\n",
    "    savedata = {'Patient ID': metadata[0x0010, 0x0020].value}\n",
    "    savedata['StudyInstanceUID'] = StUID\n",
    "    savedata['SeriesInstanceUID'] = SerUID\n",
    "    savedata['Series Number'] = metadata[0x0020, 0x0011].value\n",
    "    if sernames:\n",
    "        savedata['Phase Name'] = sernames[0]\n",
    "    else:\n",
    "        savedata['Phase Name'] = 'none'\n",
    "    savedata['Pixel Spacing'] = metadata[0x0028, 0x0030].value\n",
    "    savedata['Slice Thickness'] = metadata[0x0018, 0x0050].value\n",
    "    savedata['Prone'] = proneflag\n",
    "    savedata['Stacked'] = stackflag\n",
    "    fulldata.append(savedata)\n",
    "    \n",
    "# save combined data\n",
    "savedf = pd.DataFrame(fulldata)\n",
    "savedf = savedf[order]\n",
    "savedf.drop(['Unnamed: 0', 'Unnamed: 0.1'], axis=1, inplace=True) #drop unnamed column\n",
    "savedf.to_csv('anon_metadata_phase.csv')\n",
    "\n",
    "# merge with annotation dataframe\n",
    "annsdf = pd.merge(annotations, savedf, left_on='SeriesInstanceUID', right_on='SeriesInstanceUID')\n",
    "annsdf.to_csv('anon_metadata_annotations.csv')\n",
    "\n"
   ]
  },
  {
   "cell_type": "markdown",
   "metadata": {},
   "source": [
    "10 annotated exams do not have corresponding DICOMs in folder."
   ]
  },
  {
   "cell_type": "code",
   "execution_count": 8,
   "metadata": {},
   "outputs": [
    {
     "name": "stdout",
     "output_type": "stream",
     "text": [
      "26425\n"
     ]
    }
   ],
   "source": [
    "csv_filepath = '/data/larson2/RCC_dl/metadata/anon_metadata_annotations.csv'\n",
    "annsdf = pd.read_csv(csv_filepath)\n",
    "print(len(annsdf)) #number of individual annotations"
   ]
  },
  {
   "cell_type": "markdown",
   "metadata": {},
   "source": [
    "Append instance number (to get slice location of annotation) to anon_metadata_annotation.csv\n",
    "\n",
    "In future: can be combined with previous cells to optimize "
   ]
  },
  {
   "cell_type": "code",
   "execution_count": null,
   "metadata": {},
   "outputs": [],
   "source": [
    "dicom_base_dir = '/data/larson2/RCC_dl/1.all/'\n",
    "\n",
    "SOPIDs = annsdf[['StudyInstanceUID_x', 'SeriesInstanceUID', 'SOPInstanceUID']].drop_duplicates() #pull out unique exam/series/slice that are annotated\n",
    "SOPlist = list(SOPIDs.T.to_dict().values())\n",
    "\n",
    "\n",
    "fulldata = []\n",
    "for id in SOPlist:\n",
    "    print('on',SOPlist.index(id)+1, 'out of', len(SOPlist))\n",
    "    StUID = id['StudyInstanceUID_x']\n",
    "    SerUID = id['SeriesInstanceUID']\n",
    "    SopUID = id['SOPInstanceUID']\n",
    "\n",
    "    dicom_dir = os.path.join(dicom_base_dir, StUID, SerUID, (str(SopUID)+'.dcm'))\n",
    "    if os.path.isfile(dicom_dir):\n",
    "        metadata = pydicom.dcmread(dicom_dir, stop_before_pixels=True)\n",
    "    else:\n",
    "        print('No DICOM:', dicom_dir) #nan dicoms are due to global annotations (prone etc)\n",
    "        continue\n",
    "\n",
    "    savedata = {'SOPInstanceUID': SopUID}\n",
    "    savedata['StudyInstanceUID'] = StUID\n",
    "    savedata['SeriesInstanceUID'] = SerUID\n",
    "    savedata['Instance Number'] = metadata[0x0020, 0x0013].value\n",
    "    #savedata['Slice Location'] = metadata[0x0020, 0x1041].value #no slice location for some case\n",
    "    fulldata.append(savedata)\n",
    "    \n",
    "# save combined data\n",
    "SOPdf = pd.DataFrame(fulldata)\n",
    "\n",
    "# merge with annotation dataframe\n",
    "new_annsdf = pd.merge(annsdf, SOPdf, on=['SeriesInstanceUID','SOPInstanceUID'])\n",
    "new_annsdf.drop(['StudyInstanceUID_x', 'StudyInstanceUID_y'], axis=1, inplace=True) #drop unnamed column\n",
    "new_annsdf.to_csv('anon_metadata_annotations.csv')\n",
    "print(new_annsdf.head())"
   ]
  },
  {
   "cell_type": "markdown",
   "metadata": {},
   "source": [
    "### Next, pull some useful values from the data"
   ]
  },
  {
   "cell_type": "code",
   "execution_count": 12,
   "metadata": {},
   "outputs": [],
   "source": [
    "# read in csv created in above cell \n",
    "csv_filepath = '/data/larson2/RCC_dl/metadata/anon_metadata_phase.csv'\n",
    "savedf = pd.read_csv(csv_filepath)"
   ]
  },
  {
   "cell_type": "code",
   "execution_count": 13,
   "metadata": {},
   "outputs": [
    {
     "name": "stdout",
     "output_type": "stream",
     "text": [
      "Unnamed: 0           2407\n",
      "Patient ID            876\n",
      "StudyInstanceUID      962\n",
      "SeriesInstanceUID    2407\n",
      "Series Number         116\n",
      "Phase Name              5\n",
      "Pixel Spacing         427\n",
      "Slice Thickness        18\n",
      "Prone                   2\n",
      "Stacked                 2\n",
      "dtype: int64\n"
     ]
    }
   ],
   "source": [
    "# Unique values for each metadata field\n",
    "metadatacounts = savedf.nunique()\n",
    "print(metadatacounts)"
   ]
  },
  {
   "cell_type": "code",
   "execution_count": 14,
   "metadata": {},
   "outputs": [
    {
     "name": "stdout",
     "output_type": "stream",
     "text": [
      "Counter({'noncon': 871, 'portven': 589, 'delay': 491, 'arterial': 442, 'none': 14})\n"
     ]
    }
   ],
   "source": [
    "# Unique phases\n",
    "print(Counter(savedf['Phase Name']))\n",
    "#print(Counter(savedf['Pixel Spacing']))\n",
    "#print(Counter(savedf['Slice Thickness']))"
   ]
  },
  {
   "cell_type": "markdown",
   "metadata": {},
   "source": [
    "Noncontrast scans:"
   ]
  },
  {
   "cell_type": "code",
   "execution_count": null,
   "metadata": {},
   "outputs": [],
   "source": [
    "noncon = savedf[savedf['Phase Name'].str.contains('noncon')]\n",
    "nonconcounts = noncon.nunique()\n",
    "print(nonconcounts)\n",
    "#print(Counter(noncon['Pixel Spacing']))\n",
    "#print(Counter(noncon['Slice Thickness']))\n",
    "#print(noncon.loc[noncon['Stacked']==True])\n",
    "#print(Counter(noncon['Stacked']))"
   ]
  },
  {
   "cell_type": "markdown",
   "metadata": {},
   "source": [
    "Portal Venous:"
   ]
  },
  {
   "cell_type": "code",
   "execution_count": 12,
   "metadata": {},
   "outputs": [
    {
     "name": "stdout",
     "output_type": "stream",
     "text": [
      "Unnamed: 0           589\n",
      "Patient ID           578\n",
      "StudyInstanceUID     582\n",
      "SeriesInstanceUID    589\n",
      "Series Number         53\n",
      "Phase Name             1\n",
      "Pixel Spacing        264\n",
      "Slice Thickness       12\n",
      "Prone                  2\n",
      "Stacked                1\n",
      "dtype: int64\n"
     ]
    }
   ],
   "source": [
    "portven = savedf[savedf['Phase Name'].str.contains('portven')]\n",
    "portvencounts = portven.nunique()\n",
    "print(portvencounts)\n",
    "#print(Counter(portven['Pixel Spacing']))\n",
    "#print(Counter(portven['Slice Thickness']))"
   ]
  },
  {
   "cell_type": "markdown",
   "metadata": {},
   "source": [
    "Delay: "
   ]
  },
  {
   "cell_type": "code",
   "execution_count": 15,
   "metadata": {},
   "outputs": [
    {
     "name": "stdout",
     "output_type": "stream",
     "text": [
      "Unnamed: 0           491\n",
      "Patient ID           482\n",
      "StudyInstanceUID     483\n",
      "SeriesInstanceUID    491\n",
      "Series Number         41\n",
      "Phase Name             1\n",
      "Pixel Spacing        219\n",
      "Slice Thickness       12\n",
      "Prone                  2\n",
      "Stacked                2\n",
      "dtype: int64\n"
     ]
    }
   ],
   "source": [
    "delay = savedf[savedf['Phase Name'].str.contains('delay')]\n",
    "delaycounts = delay.nunique()\n",
    "print(delaycounts)\n",
    "#print(Counter(delay['Pixel Spacing']))\n",
    "#print(Counter(delay['Slice Thickness']))"
   ]
  },
  {
   "cell_type": "markdown",
   "metadata": {},
   "source": [
    "Arterial:"
   ]
  },
  {
   "cell_type": "code",
   "execution_count": 16,
   "metadata": {},
   "outputs": [
    {
     "name": "stdout",
     "output_type": "stream",
     "text": [
      "Unnamed: 0           442\n",
      "Patient ID           432\n",
      "StudyInstanceUID     434\n",
      "SeriesInstanceUID    442\n",
      "Series Number         34\n",
      "Phase Name             1\n",
      "Pixel Spacing        194\n",
      "Slice Thickness       14\n",
      "Prone                  2\n",
      "Stacked                2\n",
      "dtype: int64\n"
     ]
    }
   ],
   "source": [
    "arterial = savedf[savedf['Phase Name'].str.contains('arterial')]\n",
    "arterialcounts = arterial.nunique()\n",
    "print(arterialcounts)\n",
    "#print(Counter(arterial['Pixel Spacing']))\n",
    "#print(Counter(arterial['Slice Thickness']))"
   ]
  },
  {
   "cell_type": "markdown",
   "metadata": {},
   "source": [
    "Investigate scans with no phase name:"
   ]
  },
  {
   "cell_type": "code",
   "execution_count": null,
   "metadata": {},
   "outputs": [],
   "source": [
    "none = savedf[savedf['Phase Name'].str.contains('none')]\n",
    "print(none)\n",
    "#print(Counter(delay['Pixel Spacing']))\n",
    "#print(Counter(delay['Slice Thickness']))\n",
    "\n",
    "# these scans are just annotated with a \"tumor\" label, no phase label"
   ]
  }
 ],
 "metadata": {
  "interpreter": {
   "hash": "9fcb13d033648fc6754fe69bc3e5df096966a4850fc83ea175148e58b3129035"
  },
  "kernelspec": {
   "display_name": "Python 3.5.6 64-bit ('testenv': conda)",
   "language": "python",
   "name": "python3"
  },
  "language_info": {
   "codemirror_mode": {
    "name": "ipython",
    "version": 3
   },
   "file_extension": ".py",
   "mimetype": "text/x-python",
   "name": "python",
   "nbconvert_exporter": "python",
   "pygments_lexer": "ipython3",
   "version": "3.6.13"
  },
  "orig_nbformat": 4
 },
 "nbformat": 4,
 "nbformat_minor": 2
}
