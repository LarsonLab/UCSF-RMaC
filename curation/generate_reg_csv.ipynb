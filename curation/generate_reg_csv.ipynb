{
 "cells": [
  {
   "cell_type": "markdown",
   "metadata": {},
   "source": [
    "### Determine which phases each exam has and whehter or not the phases are registered"
   ]
  },
  {
   "cell_type": "code",
   "execution_count": 10,
   "metadata": {},
   "outputs": [],
   "source": [
    "import glob\n",
    "import pandas as pd\n",
    "import h5py\n",
    "import tqdm\n",
    "import os"
   ]
  },
  {
   "cell_type": "markdown",
   "metadata": {},
   "source": [
    "### Fully registered cases"
   ]
  },
  {
   "cell_type": "code",
   "execution_count": null,
   "metadata": {},
   "outputs": [],
   "source": [
    "# grab files that are fully registered\n",
    "\n",
    "hdf5_path = \"/data/ssahin/RCC_DL/multiphase/hdf5_dir\"\n",
    "files = glob.glob(hdf5_path+\"/*.hdf5\")\n",
    "#print(files[:5])"
   ]
  },
  {
   "cell_type": "code",
   "execution_count": null,
   "metadata": {},
   "outputs": [
    {
     "name": "stderr",
     "output_type": "stream",
     "text": [
      "100%|██████████| 573/573 [00:31<00:00, 18.03it/s]\n"
     ]
    }
   ],
   "source": [
    "# for each file extract info\n",
    "# 0=phase doesnt exist, 1=phase exists but not registered, 2=phase exists and is registered\n",
    "\n",
    "phase_list = ['noncon', 'arterial', 'delay', 'portven', 'mask']\n",
    "dict_list=[]\n",
    "\n",
    "for file in tqdm.tqdm(files):\n",
    "    fdict={}\n",
    "    f = h5py.File(file, 'r')\n",
    "    keys = list(f.keys())\n",
    "    fdict['pid'] = file.split('/')[-1].split('.')[0]\n",
    "    for ph in phase_list:\n",
    "        if ph in keys:\n",
    "            fdict[ph] = 2\n",
    "        else:\n",
    "            fdict[ph] = 0\n",
    "    dict_list.append(fdict)\n",
    "    f.close()"
   ]
  },
  {
   "cell_type": "code",
   "execution_count": null,
   "metadata": {},
   "outputs": [
    {
     "name": "stdout",
     "output_type": "stream",
     "text": [
      "          pid  noncon  arterial  delay  portven  mask\n",
      "0  0MPL7wuVkw       2         0      2        2     2\n",
      "1  0cb2z7Hao2       2         0      2        2     2\n",
      "2  0qtu3yMgoH       2         2      2        0     2\n",
      "3  0uEjscJHnb       2         0      0        2     2\n",
      "4  13Dvlj0sae       2         0      2        2     2\n"
     ]
    }
   ],
   "source": [
    "#convert to pandas df\n",
    "phslist_df = pd.DataFrame(dict_list)\n",
    "print(phslist_df.head())"
   ]
  },
  {
   "cell_type": "code",
   "execution_count": null,
   "metadata": {},
   "outputs": [],
   "source": [
    "# save to csv\n",
    "phslist_df.to_csv(\"phase_reg_key.csv\")"
   ]
  },
  {
   "cell_type": "markdown",
   "metadata": {},
   "source": [
    "### Not registered cases"
   ]
  },
  {
   "cell_type": "code",
   "execution_count": 24,
   "metadata": {},
   "outputs": [
    {
     "name": "stdout",
     "output_type": "stream",
     "text": [
      "['FpgA0CAWfy', 'ywASyn43Qz', 'eI5A05ZSRI', 'v6wvKeGL12', 'cx5oBSlFDm', 'plAj6dZmnS', 'f4fL79diJK', 'zaygWiS6Rv', 'XrmLihct2K', 'GFjKw7EwDK', '1Ib0h6lHic', 'gdvLZS8Muw', 'gGgBAhhswV', 'r0qjGxLSUw', '2WTPwiriu2', 'GvrzotPyFr', 'RgkUukyoLP', 'AHXeVFmpFK', 's5zeNRvGbc', 'hRjM8nUu3w', 'Cak7KfeIhF', 'cRCHcdNASN', 'dkp1S2CrhL', 'TD9usSLUpj', 'ToyVAxDQIa', 'k4p2vZgzmD', 'YdMUtxL088 ', '4Weo6O8yjD', 'kEeFXbRNip', 'KKmlJjE0CU', '08FBroxzI6', 'JMfIEEWlAz', 'BRvha4ynJQ', 'uMmQNW2y6M', 'kljWUCMIwZ', 'aS5XqDq1sV', 'uxwwIFPKGd ', 'NskoBo0acF', 'Vbz7jtZtIS', 'Olon7I3Aft', 'hA43sJukAq', 'w0ZLcnroNW', 'BhiuaZArXs', 'FEOnSAb8cf', 'Bp45c0cJpw', 'uQGlW9Azw3', 'BZMOvaklHb', 'Mu8rkIMsl6', 'YFuYlFjgbV', 'bG9mfkNz4P', 'NsZLPcfAPU', 'XqXIZZqDfS', 'nXzfDTZxat', 'XtP1qigqQC ', 'dTNNNPRqe0', 'I5vsb46qUr', '9C9tmhHJCI', 'U6DX0ld3Ys', 'wOYjdTBFCX', 'WxXHUmns4v', 'E5fle02kfY', 'n5GsTkRyd1', 'oNjq71cs9y', 'zsg5AUbKwd', 'cPj1W4qpHw', 'oSYQu46cy8', 'EG8WVG4Ivd', 'wzuU12fP1G', 'yAKBRm37rl', 'd1EKXYcFUL', 'ERd6Ak32XT ', 'P7o3Jv8ZTo', 'YJk4NXWrV8', 'YlDsm0OJw6', 'F0HtdH0pBx', 'LghoUu1teF', 'YnKGQeD7h7', 'U3OVUsz3en', 'Ua3TMNrHEI', 'qeCCXzN6tZ', '4bTUoSzILp', 'ZYUz7t5hOn', 'qpr75QWK06', '6vAXtkl1b4', 'fmYe1pbCfD', 'Fn1DPuWPA0', 'zfPMdhTW2w', 'fu1tux01uO', 'EZs1bOLKQW', 'wsJhdPOISp', 'zPnnhYGqSY', 'N0ntKhL5k9', 'khay7AoujT', 'gCRVTJKXKn', 'QrdW2Nii6d', '0A87Rq5Hkl', 'xwKtJMKm8Z', 'zs9u4LLGez', 'sFka2A1I8Y', '1GVfidUuHR', '2NMuxEHJIY', 'GRiVNSZzHM', 'gRySDLBVwk', 'rqwAZBUHI7 ', 'RgTSGbktCT', 'rHrX0BpUcX', 'h7Y0T6XqQ6', 'Rr8CDz2szi', 'HddCeQzNT4', 'W6F0t6Qf6c', 'iTLI05Dky8', 'hKh1zG5kcx', 'VCUnp7gYWl', 'yeB8XUW3cP', 'b146iT5zUl', 'sdNEsiFv4i', 'Itoa3dD0xy', 'C12cfiyt8W', 't38guwzX2d', 'DQ50zy8lCp', 'EmQYYUBLYe', 'ewdT6XuIWr', 'cwHnolRFQo', 'jS6SmUrBq7', '3q1CPr0HcQ', '4k47p1epGP', 'GUbvJyiiiM', 'KDmbZdVC3E', 'HDbZKp209j', 'Kj1CwI3ZoP', 'KKIh2zIhgf', 'nr22vgku5v', 'UDBvBoHG3i', '5WRrw1AwgJ ', '6BGlCnxaol', 'Ke2Gk4qqH8', 'Kg8HB3cqqW', '72UWEZcv7D', 'uGjmTUbrQg', 'uNpFEfpq3a', 'MI5KUbG4RU', 'WE6o6GNpTH', '803nPFUCeM', '8l3GaP37d0', 'V4eOS4cTmT', 'PtSDv6IHr5', 'l8b3UuMplz', 'OCNRaw3W6F', 'VQlENbP6Tw', 'aDUxKbObdS', 'KEhiXKrach', 'AjyTZDJQaK', 'AO8CYyeCa5', 'lkHI3FuIT0', 'VY6YkrXqwH', 'AtjbHuS1d0', 'aX94wgAtcj', '6xHkVvMhVj', 'ffBxhDAVNI', 'uMyIVuvbjp', 'B311TUIPNF', 'czgZIQla3r', 'bd1Q0x7hUd', 'iKurlrgLee', 'mIPg8sFrB3', 'VjmRllFNHG', 'blKfVgiI4K', 'X1CsarUDnH', 'Ro3QkfrtNK', 'xFBybXn1XG', 'WME36xsu0E', '99KM0R87GZ', 'nPHMBD1BM4', 'xiyLgfAHyG', 'oiGJAKy6PR', 'N0pvs6m2V6', 'Q5hPqtDCir', 'dMIr21n125', '78bw13yPxZ', 'zc6BH8zA6L', 'xa7XYCXU3x', 'tP64k95G7C', 'OkdwMyzAUw', 'A7SpdDCO9X', 'cekvauupUQ', 'yBpzRNeVIn', 'yD92dxba3Z', '7BLB0KcV0w', 'NCDjGn9SjQ', 'cQRzFyfT4r', 'qTZsMCVkRC', 'qaFJmu9JDn', '8R4lqpjAF2', 'owHf9xo5pD', 'wkk3nhrcl5', 'PAzxVObGPj', 'pq2ISBthWu', 'ab4QoMEEcO ', 'FEpQVe4dWo', 'q9ixZ8jONC', 'PZJbKmDaJM ', 'SEDHme2i7H', 'fyzo1EqXd7', 'qRmTxBHg0Z', 'gHX2T4WFWt', '2tk0QdjDF1', 'GjNVzVy1oq', 'Zaimur5bcI ', 'wAaUEyItjU', 'aWHWTo1Rny', 'GwH7ivIt8w', '3bdecAwmxm', 'GFYa1r7vMf', 'gYlaPfQdtZ', 'jsBvoI0ryF', '5OjuFGw7YB', 'eM3LBxKCbv', '6NuvoTC8Y0', 'fUuItGkARL', 'I06IcvD9ix ', 'vZp7c1E66e ', '1mnNua5vBc', 'dsQ9GsAFUJ', 'SJfGeC6lEo', 'jiuPdpa9rh', 'gJtwjGJGg8', '3Jq8meEZS6', 'jWK5FGmaV4', 'tJYRUhVuhr', 'KdrduJH9bf', 'IgItUhmsyb', 'IEg6QUZjBb', 'UHvNM8uYz1', 'jfCkbgrSmD', '6msZHHm8qR', 'uJhZXquwhA', 'h3ojG7vszo', 'eVOx8jYK9h', 'oy4nL6d94I', 'ATmSxjhC10', 'Q6Pgy56o0w', 'aDqbaa8Ee4', 'AEm9rAOjhW', 'EuP90di7Hb', 'LeZNKgtSPf', '0s08mX8Gdz', 'vuvQE5To4R', '1FeC2cgqyj', 'AZJuZbYLEC', 'ul3qxUDtGZ', '5N7lkJ0kDs', 'n9StWGAhc4', 'VQHpRW8g2p', 'bNSgKBsAWr', 'bbpxIsUKGA', 'xjxoPc85ff', 'NJ4fSgWXLI', 'UTEnXMHoUv', 'Nl1hncLlE5', 'DCHhkfn6kI', 'GQOeYeS9pK', 'diSGoAx7OP', 'x33v1irRvU', 'NRLlNBlciW', 'DMay5Rd9ah', 'Vt6gxIpVy6', 'oApAWrZ77t', 'ERd6Ak32XT', 'Zaimur5bcI']\n"
     ]
    }
   ],
   "source": [
    "phase_fname_notreg = {\"arterial\": \"arterial.nii.gz\", \"delay\": \"delay.nii.gz\", \"portven\": \"portven.nii.gz\"}\n",
    "data_path = \"/data/larson2/RCC_dl/data2022/\"\n",
    "\n",
    "\n",
    "pids = pd.read_csv(\"notcompreg_notconv.csv\").values.T.tolist()[0]\n",
    "print(pids)"
   ]
  },
  {
   "cell_type": "code",
   "execution_count": 25,
   "metadata": {},
   "outputs": [
    {
     "name": "stderr",
     "output_type": "stream",
     "text": [
      "100%|██████████| 269/269 [00:00<00:00, 525.86it/s]\n"
     ]
    }
   ],
   "source": [
    "istart=0\n",
    "# pids = pids[:2] #to test\n",
    "\n",
    "dict_list=[]\n",
    "for pid in tqdm.tqdm(pids[istart:]):\n",
    "    fdict={}\n",
    "\n",
    "    fdict['pid']=pid\n",
    "    fdict['noncon'] = 2\n",
    "\n",
    "    for phase in phase_fname_notreg:\n",
    "        if os.path.exists(os.path.join(data_path,pid,phase_fname_notreg[phase])):\n",
    "            fdict[phase] = 1\n",
    "        else:\n",
    "            fdict[phase] = 0\n",
    "    \n",
    "    fdict['mask'] = 2\n",
    "\n",
    "    dict_list.append(fdict)"
   ]
  },
  {
   "cell_type": "code",
   "execution_count": 26,
   "metadata": {},
   "outputs": [
    {
     "name": "stdout",
     "output_type": "stream",
     "text": [
      "          pid  noncon  arterial  delay  portven  mask\n",
      "0  FpgA0CAWfy       2         0      0        1     2\n",
      "1  ywASyn43Qz       2         0      0        1     2\n",
      "2  eI5A05ZSRI       2         1      1        0     2\n",
      "3  v6wvKeGL12       2         1      1        0     2\n",
      "4  cx5oBSlFDm       2         1      0        1     2\n"
     ]
    }
   ],
   "source": [
    "#convert to pandas df\n",
    "phslist_df = pd.DataFrame(dict_list)\n",
    "print(phslist_df.head())"
   ]
  },
  {
   "cell_type": "code",
   "execution_count": 27,
   "metadata": {},
   "outputs": [],
   "source": [
    "# save to csv\n",
    "phslist_df.to_csv(\"phase_reg_key_notreg.csv\")"
   ]
  }
 ],
 "metadata": {
  "kernelspec": {
   "display_name": "reg-36",
   "language": "python",
   "name": "python3"
  },
  "language_info": {
   "codemirror_mode": {
    "name": "ipython",
    "version": 3
   },
   "file_extension": ".py",
   "mimetype": "text/x-python",
   "name": "python",
   "nbconvert_exporter": "python",
   "pygments_lexer": "ipython3",
   "version": "3.6.13"
  }
 },
 "nbformat": 4,
 "nbformat_minor": 2
}
