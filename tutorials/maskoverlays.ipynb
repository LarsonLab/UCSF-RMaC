{
 "cells": [
  {
   "cell_type": "markdown",
   "metadata": {},
   "source": [
    "## Mask Overlays Tutorial\n",
    "\n",
    "In this tutorial, we will visualize slices of an example CT dataset and overlay the masks on the CT images."
   ]
  }
 ],
 "metadata": {
  "language_info": {
   "name": "python"
  }
 },
 "nbformat": 4,
 "nbformat_minor": 2
}
